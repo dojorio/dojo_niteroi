{
 "cells": [
  {
   "cell_type": "code",
   "execution_count": null,
   "metadata": {},
   "outputs": [],
   "source": [
    "%load_ext ipython_unittest.dojo"
   ]
  },
  {
   "cell_type": "code",
   "execution_count": null,
   "metadata": {
    "collapsed": true
   },
   "outputs": [],
   "source": [
    "quicksort = lambda lista: (\n",
    "    quicksort([x for x in lista if x < lista[0]]) + \n",
    "    [lista[0]] +\n",
    "    quicksort([x for x in lista if x > lista[0]]) \n",
    "    if lista else []\n",
    ")"
   ]
  },
  {
   "cell_type": "code",
   "execution_count": null,
   "metadata": {},
   "outputs": [],
   "source": [
    "quicksort([2, 5, 1, 76, 4, 2, 1, 8])"
   ]
  },
  {
   "cell_type": "code",
   "execution_count": 2,
   "metadata": {
    "collapsed": true
   },
   "outputs": [],
   "source": [
    "def train(carriages):\n",
    "    i = result = 0\n",
    "    while i < len(carriages) -1:\n",
    "        j = i + 1\n",
    "        if carriages[i] > carriages[j]:\n",
    "            carriages[i], carriages[j] = carriages[j], carriages[i] \n",
    "            result += 1\n",
    "            i = 0\n",
    "        else:\n",
    "            i += 1\n",
    "    return result"
   ]
  },
  {
   "cell_type": "code",
   "execution_count": null,
   "metadata": {
    "collapsed": true
   },
   "outputs": [],
   "source": [
    "def train(carriages):\n",
    "    if not carriages:\n",
    "        return 0\n",
    "    index = carriages.index(min(carriages))\n",
    "    return index + train(carriages[:index] + carriages[index + 1:])"
   ]
  },
  {
   "cell_type": "code",
   "execution_count": 4,
   "metadata": {},
   "outputs": [],
   "source": [
    "train = lambda carriages: (\n",
    "    0 if not carriages else (\n",
    "        lambda index: index + train(carriages[:index] + carriages[index + 1:])\n",
    "    )(carriages.index(min(carriages)))\n",
    ")"
   ]
  },
  {
   "cell_type": "code",
   "execution_count": 5,
   "metadata": {},
   "outputs": [
    {
     "name": "stdout",
     "output_type": "stream",
     "text": [
      "10000 loops, best of 3: 55.6 µs per loop\n"
     ]
    }
   ],
   "source": [
    "%%timeit\n",
    "#%%unittest -p 1\n",
    "assert train([]) == 0\n",
    "assert train([1]) == 0\n",
    "assert train([2, 1]) == 1\n",
    "assert train([3, 1]) == 1\n",
    "assert train([4, 1]) == 1\n",
    "assert train([1, 2]) == 0\n",
    "assert train([1, 3, 2]) == 1\n",
    "assert train([1, 1]) == 0\n",
    "assert train([2, 1, 3]) == 1\n",
    "assert train([3, 2, 1]) == 3\n",
    "assert train([1, 2, 3]) == 0\n",
    "assert train([1, 2, 3, 4]) == 0\n",
    "assert train([1, 2, 4, 3]) == 1\n",
    "assert train([2, 1, 4, 3]) == 2\n",
    "assert train([4, 1, 2, 3]) == 3\n",
    "assert train([4, 3, 1, 2]) == 5"
   ]
  },
  {
   "cell_type": "code",
   "execution_count": null,
   "metadata": {},
   "outputs": [],
   "source": [
    "train = lambda carriages: (\n",
    "    0 if not carriages else (\n",
    "        lambda index: index + train(carriages[:index] + carriages[index + 1:])\n",
    "    )(carriages.index(min(carriages)))\n",
    ")\n",
    "\n",
    "n = int(input())\n",
    "for i in range(n):\n",
    "    k = int(input())\n",
    "    vet = [int(x) for x in input().split(\" \")]\n",
    "    print(\"Optimal train swapping takes {} swaps.\".format(train(vet)))"
   ]
  },
  {
   "cell_type": "markdown",
   "metadata": {},
   "source": [
    "- 17:52:06 -> 17:57:09 = Joao Felipe, Marcelo\n",
    "- 17:57:58 -> 18:02:59 = Marcelo, Philippe\n",
    "- 18:03:17 -> 18:08:18 = Philippe, Erick\n",
    "- 18:08:31 -> 18:13:32 = Erick, Daniel\n",
    "- 18:13:48 -> 18:18:49 = Daniel, João\n",
    "- 18:19:01 -> 18:24:02 = João, Marcelo\n",
    "- 18:24:29 -> 18:29:30 = Marcelo, erick\n",
    "- 18:29:44 -> 18:34:45 = erick, Daniel\n",
    "- 18:34:46 -> 18:40:10 = Daniel, \n",
    "- 18:40:23 -> 18:45:24 = , Marcelo\n",
    "- 18:45:28 -> 18:50:29 = Marcelo, null\n",
    "- 18:50:38 -> 18:50:42 = null, "
   ]
  },
  {
   "cell_type": "code",
   "execution_count": null,
   "metadata": {
    "collapsed": true
   },
   "outputs": [],
   "source": []
  }
 ],
 "metadata": {
  "kernelspec": {
   "display_name": "Python 3",
   "language": "python",
   "name": "python3"
  },
  "language_info": {
   "codemirror_mode": {
    "name": "ipython",
    "version": 3
   },
   "file_extension": ".py",
   "mimetype": "text/x-python",
   "name": "python",
   "nbconvert_exporter": "python",
   "pygments_lexer": "ipython3",
   "version": "3.6.1"
  }
 },
 "nbformat": 4,
 "nbformat_minor": 2
}
